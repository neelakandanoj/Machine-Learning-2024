{
 "cells": [
  {
   "cell_type": "markdown",
   "metadata": {},
   "source": [
    "- Data import to pandas\n",
    "- Top 5 rows of the data\n",
    "- Checked the duplicate values\n",
    "- Removed/Dropped the unique values\n",
    "- Checked Missing values\n",
    "- checked the Data type\n",
    "- Descriptive Analysis\n",
    "- Created Year and Month column\n",
    "- Mapped the months in MMM format\n",
    "- Target variable distribution (Fraud and Non Fraud)"
   ]
  },
  {
   "cell_type": "markdown",
   "metadata": {},
   "source": [
    "## Importing Libararies"
   ]
  },
  {
   "cell_type": "code",
   "execution_count": 16,
   "metadata": {},
   "outputs": [],
   "source": [
    "import pandas as pd\n",
    "import numpy as np\n",
    "import matplotlib.pyplot as plt\n",
    "import seaborn as sns"
   ]
  },
  {
   "cell_type": "code",
   "execution_count": 17,
   "metadata": {},
   "outputs": [
    {
     "data": {
      "text/html": [
       "<div>\n",
       "<style scoped>\n",
       "    .dataframe tbody tr th:only-of-type {\n",
       "        vertical-align: middle;\n",
       "    }\n",
       "\n",
       "    .dataframe tbody tr th {\n",
       "        vertical-align: top;\n",
       "    }\n",
       "\n",
       "    .dataframe thead th {\n",
       "        text-align: right;\n",
       "    }\n",
       "</style>\n",
       "<table border=\"1\" class=\"dataframe\">\n",
       "  <thead>\n",
       "    <tr style=\"text-align: right;\">\n",
       "      <th></th>\n",
       "      <th>Transaction_ID</th>\n",
       "      <th>Date</th>\n",
       "      <th>Time</th>\n",
       "      <th>Merchant_ID</th>\n",
       "      <th>Customer_ID</th>\n",
       "      <th>Device_ID</th>\n",
       "      <th>Transaction_Type</th>\n",
       "      <th>Payment_Gateway</th>\n",
       "      <th>Transaction_City</th>\n",
       "      <th>Transaction_State</th>\n",
       "      <th>IP_Address</th>\n",
       "      <th>Transaction_Status</th>\n",
       "      <th>Device_OS</th>\n",
       "      <th>Transaction_Frequency</th>\n",
       "      <th>Merchant_Category</th>\n",
       "      <th>Transaction_Channel</th>\n",
       "      <th>Transaction_Amount_Deviation</th>\n",
       "      <th>Days_Since_Last_Transaction</th>\n",
       "      <th>amount</th>\n",
       "      <th>fraud</th>\n",
       "    </tr>\n",
       "  </thead>\n",
       "  <tbody>\n",
       "    <tr>\n",
       "      <th>0</th>\n",
       "      <td>T00022452</td>\n",
       "      <td>20/04/23</td>\n",
       "      <td>4:50:22 AM</td>\n",
       "      <td>f65a902b-2396-40cc-9593-97e103f1bc15</td>\n",
       "      <td>89aaeceb-21f5-46c8-9de3-89dde6a10a75</td>\n",
       "      <td>c1e0deb4-7c97-4178-a838-38f4a2f0b57c</td>\n",
       "      <td>Refund</td>\n",
       "      <td>SamplePay</td>\n",
       "      <td>Durgapur</td>\n",
       "      <td>Chhattisgarh</td>\n",
       "      <td>140.213.7.48</td>\n",
       "      <td>Completed</td>\n",
       "      <td>MacOS</td>\n",
       "      <td>1</td>\n",
       "      <td>Brand Vouchers and OTT</td>\n",
       "      <td>In-store</td>\n",
       "      <td>25.02</td>\n",
       "      <td>5</td>\n",
       "      <td>396.62</td>\n",
       "      <td>1</td>\n",
       "    </tr>\n",
       "    <tr>\n",
       "      <th>1</th>\n",
       "      <td>T00032233</td>\n",
       "      <td>08/08/23</td>\n",
       "      <td>8:09:21 AM</td>\n",
       "      <td>d4a5efcb-4eb6-4d3a-8132-07bb3e6e13a4</td>\n",
       "      <td>8a8962f9-e84a-4573-ab0b-187311978a21</td>\n",
       "      <td>62e14f64-b0ba-4284-889a-51ac05baf33e</td>\n",
       "      <td>Bank Transfer</td>\n",
       "      <td>SamplePay</td>\n",
       "      <td>Rajpur Sonarpur</td>\n",
       "      <td>Himachal Pradesh</td>\n",
       "      <td>184.108.177.45</td>\n",
       "      <td>Pending</td>\n",
       "      <td>Windows</td>\n",
       "      <td>30</td>\n",
       "      <td>Home delivery</td>\n",
       "      <td>Mobile</td>\n",
       "      <td>-36.64</td>\n",
       "      <td>20</td>\n",
       "      <td>121.94</td>\n",
       "      <td>1</td>\n",
       "    </tr>\n",
       "    <tr>\n",
       "      <th>2</th>\n",
       "      <td>T00037364</td>\n",
       "      <td>25/06/23</td>\n",
       "      <td>7:49:01 AM</td>\n",
       "      <td>759ad138-9473-4729-8699-3d72c7ffb983</td>\n",
       "      <td>c3f53ce6-e305-4460-a71d-93bde26043ab</td>\n",
       "      <td>4281c542-ac77-4269-b4bb-1de93ac12677</td>\n",
       "      <td>Bank Transfer</td>\n",
       "      <td>Other</td>\n",
       "      <td>New Delhi</td>\n",
       "      <td>Himachal Pradesh</td>\n",
       "      <td>16.106.248.163</td>\n",
       "      <td>Failed</td>\n",
       "      <td>Android</td>\n",
       "      <td>2</td>\n",
       "      <td>Utilities</td>\n",
       "      <td>Online</td>\n",
       "      <td>44.19</td>\n",
       "      <td>22</td>\n",
       "      <td>106.69</td>\n",
       "      <td>1</td>\n",
       "    </tr>\n",
       "    <tr>\n",
       "      <th>3</th>\n",
       "      <td>T00015924</td>\n",
       "      <td>28/01/24</td>\n",
       "      <td>5:44:12 AM</td>\n",
       "      <td>d8f561e4-bded-4ef0-bcd8-5494b2e31a94</td>\n",
       "      <td>9f0c5613-7d4c-4454-bee1-c47fbba406a1</td>\n",
       "      <td>058b6488-2469-42f2-bc7f-707921d35cad</td>\n",
       "      <td>Subscription</td>\n",
       "      <td>UPI Pay</td>\n",
       "      <td>Bharatpur</td>\n",
       "      <td>Chhattisgarh</td>\n",
       "      <td>65.245.160.212</td>\n",
       "      <td>Failed</td>\n",
       "      <td>Android</td>\n",
       "      <td>0</td>\n",
       "      <td>Purchases</td>\n",
       "      <td>Online</td>\n",
       "      <td>-54.34</td>\n",
       "      <td>28</td>\n",
       "      <td>3611.11</td>\n",
       "      <td>1</td>\n",
       "    </tr>\n",
       "    <tr>\n",
       "      <th>4</th>\n",
       "      <td>T00021805</td>\n",
       "      <td>21/06/23</td>\n",
       "      <td>9:40:59 AM</td>\n",
       "      <td>26fdd7a1-8537-4dfe-bcf7-f5a127b36682</td>\n",
       "      <td>bf9aa6d5-7d3d-43f9-8631-31336720a383</td>\n",
       "      <td>068ff12c-127a-4cfb-9899-ddde37060b28</td>\n",
       "      <td>Investment</td>\n",
       "      <td>Dummy Bank</td>\n",
       "      <td>Sagar</td>\n",
       "      <td>Mizoram</td>\n",
       "      <td>33.172.152.38</td>\n",
       "      <td>Completed</td>\n",
       "      <td>MacOS</td>\n",
       "      <td>1</td>\n",
       "      <td>Other</td>\n",
       "      <td>Online</td>\n",
       "      <td>12.38</td>\n",
       "      <td>25</td>\n",
       "      <td>374.89</td>\n",
       "      <td>1</td>\n",
       "    </tr>\n",
       "  </tbody>\n",
       "</table>\n",
       "</div>"
      ],
      "text/plain": [
       "  Transaction_ID      Date        Time                           Merchant_ID  \\\n",
       "0      T00022452  20/04/23  4:50:22 AM  f65a902b-2396-40cc-9593-97e103f1bc15   \n",
       "1      T00032233  08/08/23  8:09:21 AM  d4a5efcb-4eb6-4d3a-8132-07bb3e6e13a4   \n",
       "2      T00037364  25/06/23  7:49:01 AM  759ad138-9473-4729-8699-3d72c7ffb983   \n",
       "3      T00015924  28/01/24  5:44:12 AM  d8f561e4-bded-4ef0-bcd8-5494b2e31a94   \n",
       "4      T00021805  21/06/23  9:40:59 AM  26fdd7a1-8537-4dfe-bcf7-f5a127b36682   \n",
       "\n",
       "                            Customer_ID                             Device_ID  \\\n",
       "0  89aaeceb-21f5-46c8-9de3-89dde6a10a75  c1e0deb4-7c97-4178-a838-38f4a2f0b57c   \n",
       "1  8a8962f9-e84a-4573-ab0b-187311978a21  62e14f64-b0ba-4284-889a-51ac05baf33e   \n",
       "2  c3f53ce6-e305-4460-a71d-93bde26043ab  4281c542-ac77-4269-b4bb-1de93ac12677   \n",
       "3  9f0c5613-7d4c-4454-bee1-c47fbba406a1  058b6488-2469-42f2-bc7f-707921d35cad   \n",
       "4  bf9aa6d5-7d3d-43f9-8631-31336720a383  068ff12c-127a-4cfb-9899-ddde37060b28   \n",
       "\n",
       "  Transaction_Type Payment_Gateway Transaction_City Transaction_State  \\\n",
       "0           Refund       SamplePay         Durgapur      Chhattisgarh   \n",
       "1    Bank Transfer       SamplePay  Rajpur Sonarpur  Himachal Pradesh   \n",
       "2    Bank Transfer           Other        New Delhi  Himachal Pradesh   \n",
       "3     Subscription         UPI Pay        Bharatpur      Chhattisgarh   \n",
       "4       Investment      Dummy Bank            Sagar           Mizoram   \n",
       "\n",
       "       IP_Address Transaction_Status Device_OS  Transaction_Frequency  \\\n",
       "0    140.213.7.48          Completed     MacOS                      1   \n",
       "1  184.108.177.45            Pending   Windows                     30   \n",
       "2  16.106.248.163             Failed   Android                      2   \n",
       "3  65.245.160.212             Failed   Android                      0   \n",
       "4   33.172.152.38          Completed     MacOS                      1   \n",
       "\n",
       "        Merchant_Category Transaction_Channel  Transaction_Amount_Deviation  \\\n",
       "0  Brand Vouchers and OTT            In-store                         25.02   \n",
       "1           Home delivery              Mobile                        -36.64   \n",
       "2               Utilities              Online                         44.19   \n",
       "3               Purchases              Online                        -54.34   \n",
       "4                   Other              Online                         12.38   \n",
       "\n",
       "   Days_Since_Last_Transaction   amount  fraud  \n",
       "0                            5   396.62      1  \n",
       "1                           20   121.94      1  \n",
       "2                           22   106.69      1  \n",
       "3                           28  3611.11      1  \n",
       "4                           25   374.89      1  "
      ]
     },
     "execution_count": 17,
     "metadata": {},
     "output_type": "execute_result"
    }
   ],
   "source": [
    "df=pd.read_csv(r\"Copy of Sample_DATA.csv\")\n",
    "df.head()"
   ]
  },
  {
   "cell_type": "code",
   "execution_count": 18,
   "metadata": {},
   "outputs": [
    {
     "data": {
      "text/plain": [
       "Index(['Transaction_ID', 'Date', 'Time', 'Merchant_ID', 'Customer_ID',\n",
       "       'Device_ID', 'Transaction_Type', 'Payment_Gateway', 'Transaction_City',\n",
       "       'Transaction_State', 'IP_Address', 'Transaction_Status', 'Device_OS',\n",
       "       'Transaction_Frequency', 'Merchant_Category', 'Transaction_Channel',\n",
       "       'Transaction_Amount_Deviation', 'Days_Since_Last_Transaction', 'amount',\n",
       "       'fraud'],\n",
       "      dtype='object')"
      ]
     },
     "execution_count": 18,
     "metadata": {},
     "output_type": "execute_result"
    }
   ],
   "source": [
    "df.columns"
   ]
  },
  {
   "cell_type": "code",
   "execution_count": 19,
   "metadata": {},
   "outputs": [
    {
     "name": "stdout",
     "output_type": "stream",
     "text": [
      "<class 'pandas.core.frame.DataFrame'>\n",
      "RangeIndex: 647 entries, 0 to 646\n",
      "Data columns (total 20 columns):\n",
      " #   Column                        Non-Null Count  Dtype  \n",
      "---  ------                        --------------  -----  \n",
      " 0   Transaction_ID                647 non-null    object \n",
      " 1   Date                          647 non-null    object \n",
      " 2   Time                          647 non-null    object \n",
      " 3   Merchant_ID                   647 non-null    object \n",
      " 4   Customer_ID                   647 non-null    object \n",
      " 5   Device_ID                     647 non-null    object \n",
      " 6   Transaction_Type              647 non-null    object \n",
      " 7   Payment_Gateway               647 non-null    object \n",
      " 8   Transaction_City              647 non-null    object \n",
      " 9   Transaction_State             647 non-null    object \n",
      " 10  IP_Address                    647 non-null    object \n",
      " 11  Transaction_Status            647 non-null    object \n",
      " 12  Device_OS                     647 non-null    object \n",
      " 13  Transaction_Frequency         647 non-null    int64  \n",
      " 14  Merchant_Category             647 non-null    object \n",
      " 15  Transaction_Channel           647 non-null    object \n",
      " 16  Transaction_Amount_Deviation  647 non-null    float64\n",
      " 17  Days_Since_Last_Transaction   647 non-null    int64  \n",
      " 18  amount                        647 non-null    float64\n",
      " 19  fraud                         647 non-null    int64  \n",
      "dtypes: float64(2), int64(3), object(15)\n",
      "memory usage: 101.2+ KB\n"
     ]
    }
   ],
   "source": [
    "df.info()"
   ]
  },
  {
   "cell_type": "code",
   "execution_count": 20,
   "metadata": {},
   "outputs": [
    {
     "data": {
      "text/html": [
       "<div>\n",
       "<style scoped>\n",
       "    .dataframe tbody tr th:only-of-type {\n",
       "        vertical-align: middle;\n",
       "    }\n",
       "\n",
       "    .dataframe tbody tr th {\n",
       "        vertical-align: top;\n",
       "    }\n",
       "\n",
       "    .dataframe thead th {\n",
       "        text-align: right;\n",
       "    }\n",
       "</style>\n",
       "<table border=\"1\" class=\"dataframe\">\n",
       "  <thead>\n",
       "    <tr style=\"text-align: right;\">\n",
       "      <th></th>\n",
       "      <th>count</th>\n",
       "      <th>mean</th>\n",
       "      <th>std</th>\n",
       "      <th>min</th>\n",
       "      <th>25%</th>\n",
       "      <th>50%</th>\n",
       "      <th>75%</th>\n",
       "      <th>max</th>\n",
       "    </tr>\n",
       "  </thead>\n",
       "  <tbody>\n",
       "    <tr>\n",
       "      <th>Transaction_Frequency</th>\n",
       "      <td>647.0</td>\n",
       "      <td>3.564142</td>\n",
       "      <td>6.454543</td>\n",
       "      <td>0.00</td>\n",
       "      <td>1.000</td>\n",
       "      <td>2.00</td>\n",
       "      <td>3.00</td>\n",
       "      <td>50.00</td>\n",
       "    </tr>\n",
       "    <tr>\n",
       "      <th>Transaction_Amount_Deviation</th>\n",
       "      <td>647.0</td>\n",
       "      <td>5.014668</td>\n",
       "      <td>56.375914</td>\n",
       "      <td>-99.47</td>\n",
       "      <td>-42.355</td>\n",
       "      <td>8.38</td>\n",
       "      <td>52.29</td>\n",
       "      <td>99.45</td>\n",
       "    </tr>\n",
       "    <tr>\n",
       "      <th>Days_Since_Last_Transaction</th>\n",
       "      <td>647.0</td>\n",
       "      <td>15.717156</td>\n",
       "      <td>8.218122</td>\n",
       "      <td>1.00</td>\n",
       "      <td>8.500</td>\n",
       "      <td>16.00</td>\n",
       "      <td>23.00</td>\n",
       "      <td>29.00</td>\n",
       "    </tr>\n",
       "    <tr>\n",
       "      <th>amount</th>\n",
       "      <td>647.0</td>\n",
       "      <td>128.839753</td>\n",
       "      <td>364.995747</td>\n",
       "      <td>0.12</td>\n",
       "      <td>17.155</td>\n",
       "      <td>35.00</td>\n",
       "      <td>74.77</td>\n",
       "      <td>4883.62</td>\n",
       "    </tr>\n",
       "    <tr>\n",
       "      <th>fraud</th>\n",
       "      <td>647.0</td>\n",
       "      <td>0.239567</td>\n",
       "      <td>0.427150</td>\n",
       "      <td>0.00</td>\n",
       "      <td>0.000</td>\n",
       "      <td>0.00</td>\n",
       "      <td>0.00</td>\n",
       "      <td>1.00</td>\n",
       "    </tr>\n",
       "  </tbody>\n",
       "</table>\n",
       "</div>"
      ],
      "text/plain": [
       "                              count        mean         std    min     25%  \\\n",
       "Transaction_Frequency         647.0    3.564142    6.454543   0.00   1.000   \n",
       "Transaction_Amount_Deviation  647.0    5.014668   56.375914 -99.47 -42.355   \n",
       "Days_Since_Last_Transaction   647.0   15.717156    8.218122   1.00   8.500   \n",
       "amount                        647.0  128.839753  364.995747   0.12  17.155   \n",
       "fraud                         647.0    0.239567    0.427150   0.00   0.000   \n",
       "\n",
       "                                50%    75%      max  \n",
       "Transaction_Frequency          2.00   3.00    50.00  \n",
       "Transaction_Amount_Deviation   8.38  52.29    99.45  \n",
       "Days_Since_Last_Transaction   16.00  23.00    29.00  \n",
       "amount                        35.00  74.77  4883.62  \n",
       "fraud                          0.00   0.00     1.00  "
      ]
     },
     "execution_count": 20,
     "metadata": {},
     "output_type": "execute_result"
    }
   ],
   "source": [
    "df.describe().T"
   ]
  },
  {
   "cell_type": "markdown",
   "metadata": {},
   "source": [
    "### Checking Duplicate values"
   ]
  },
  {
   "cell_type": "code",
   "execution_count": 21,
   "metadata": {},
   "outputs": [
    {
     "data": {
      "text/plain": [
       "np.int64(0)"
      ]
     },
     "execution_count": 21,
     "metadata": {},
     "output_type": "execute_result"
    }
   ],
   "source": [
    "df.duplicated().sum()"
   ]
  },
  {
   "cell_type": "markdown",
   "metadata": {},
   "source": [
    "- There is no duplicate values in the datasets"
   ]
  },
  {
   "cell_type": "markdown",
   "metadata": {},
   "source": [
    "### Checking Null value is present or not"
   ]
  },
  {
   "cell_type": "code",
   "execution_count": 22,
   "metadata": {},
   "outputs": [
    {
     "data": {
      "text/plain": [
       "Transaction_ID                  0\n",
       "Date                            0\n",
       "Time                            0\n",
       "Merchant_ID                     0\n",
       "Customer_ID                     0\n",
       "Device_ID                       0\n",
       "Transaction_Type                0\n",
       "Payment_Gateway                 0\n",
       "Transaction_City                0\n",
       "Transaction_State               0\n",
       "IP_Address                      0\n",
       "Transaction_Status              0\n",
       "Device_OS                       0\n",
       "Transaction_Frequency           0\n",
       "Merchant_Category               0\n",
       "Transaction_Channel             0\n",
       "Transaction_Amount_Deviation    0\n",
       "Days_Since_Last_Transaction     0\n",
       "amount                          0\n",
       "fraud                           0\n",
       "dtype: int64"
      ]
     },
     "execution_count": 22,
     "metadata": {},
     "output_type": "execute_result"
    }
   ],
   "source": [
    "df.isna().sum()"
   ]
  },
  {
   "cell_type": "markdown",
   "metadata": {},
   "source": [
    "### How to handle Missing values\n",
    "- Drop the missing values\n",
    "- Imputatin by forward fill / Backward fill\n",
    "- LInear regression\n",
    "- mean, median,mode\n",
    "\n",
    "\n",
    "- Normal Distribution\n",
    "\n",
    "mean=median-mode"
   ]
  },
  {
   "cell_type": "code",
   "execution_count": 23,
   "metadata": {},
   "outputs": [
    {
     "data": {
      "text/plain": [
       "(647, 20)"
      ]
     },
     "execution_count": 23,
     "metadata": {},
     "output_type": "execute_result"
    }
   ],
   "source": [
    "df.shape"
   ]
  },
  {
   "cell_type": "code",
   "execution_count": 24,
   "metadata": {},
   "outputs": [
    {
     "data": {
      "text/plain": [
       "Transaction_ID                  647\n",
       "Date                            302\n",
       "Time                            641\n",
       "Merchant_ID                     647\n",
       "Customer_ID                     647\n",
       "Device_ID                       647\n",
       "Transaction_Type                  7\n",
       "Payment_Gateway                   9\n",
       "Transaction_City                281\n",
       "Transaction_State                28\n",
       "IP_Address                      647\n",
       "Transaction_Status                3\n",
       "Device_OS                         4\n",
       "Transaction_Frequency            14\n",
       "Merchant_Category                10\n",
       "Transaction_Channel               3\n",
       "Transaction_Amount_Deviation    635\n",
       "Days_Since_Last_Transaction      29\n",
       "amount                          633\n",
       "fraud                             2\n",
       "dtype: int64"
      ]
     },
     "execution_count": 24,
     "metadata": {},
     "output_type": "execute_result"
    }
   ],
   "source": [
    "## Unique value in datasets\n",
    "df.nunique()\n",
    "\n"
   ]
  },
  {
   "cell_type": "code",
   "execution_count": 26,
   "metadata": {},
   "outputs": [],
   "source": [
    "df.drop(['Transaction_ID','Merchant_ID','Customer_ID','Device_ID','IP_Address'],axis=1, inplace=True)"
   ]
  },
  {
   "cell_type": "code",
   "execution_count": 27,
   "metadata": {},
   "outputs": [
    {
     "data": {
      "text/plain": [
       "Index(['Date', 'Time', 'Transaction_Type', 'Payment_Gateway',\n",
       "       'Transaction_City', 'Transaction_State', 'Transaction_Status',\n",
       "       'Device_OS', 'Transaction_Frequency', 'Merchant_Category',\n",
       "       'Transaction_Channel', 'Transaction_Amount_Deviation',\n",
       "       'Days_Since_Last_Transaction', 'amount', 'fraud'],\n",
       "      dtype='object')"
      ]
     },
     "execution_count": 27,
     "metadata": {},
     "output_type": "execute_result"
    }
   ],
   "source": [
    "df.columns"
   ]
  },
  {
   "cell_type": "code",
   "execution_count": null,
   "metadata": {},
   "outputs": [],
   "source": [
    "df=df.drop(['Transaction_ID'],axis=1)"
   ]
  },
  {
   "cell_type": "code",
   "execution_count": 28,
   "metadata": {},
   "outputs": [
    {
     "data": {
      "text/html": [
       "<div>\n",
       "<style scoped>\n",
       "    .dataframe tbody tr th:only-of-type {\n",
       "        vertical-align: middle;\n",
       "    }\n",
       "\n",
       "    .dataframe tbody tr th {\n",
       "        vertical-align: top;\n",
       "    }\n",
       "\n",
       "    .dataframe thead th {\n",
       "        text-align: right;\n",
       "    }\n",
       "</style>\n",
       "<table border=\"1\" class=\"dataframe\">\n",
       "  <thead>\n",
       "    <tr style=\"text-align: right;\">\n",
       "      <th></th>\n",
       "      <th>Date</th>\n",
       "      <th>Time</th>\n",
       "      <th>Transaction_Type</th>\n",
       "      <th>Payment_Gateway</th>\n",
       "      <th>Transaction_City</th>\n",
       "      <th>Transaction_State</th>\n",
       "      <th>Transaction_Status</th>\n",
       "      <th>Device_OS</th>\n",
       "      <th>Transaction_Frequency</th>\n",
       "      <th>Merchant_Category</th>\n",
       "      <th>Transaction_Channel</th>\n",
       "      <th>Transaction_Amount_Deviation</th>\n",
       "      <th>Days_Since_Last_Transaction</th>\n",
       "      <th>amount</th>\n",
       "      <th>fraud</th>\n",
       "    </tr>\n",
       "  </thead>\n",
       "  <tbody>\n",
       "    <tr>\n",
       "      <th>0</th>\n",
       "      <td>20/04/23</td>\n",
       "      <td>4:50:22 AM</td>\n",
       "      <td>Refund</td>\n",
       "      <td>SamplePay</td>\n",
       "      <td>Durgapur</td>\n",
       "      <td>Chhattisgarh</td>\n",
       "      <td>Completed</td>\n",
       "      <td>MacOS</td>\n",
       "      <td>1</td>\n",
       "      <td>Brand Vouchers and OTT</td>\n",
       "      <td>In-store</td>\n",
       "      <td>25.02</td>\n",
       "      <td>5</td>\n",
       "      <td>396.62</td>\n",
       "      <td>1</td>\n",
       "    </tr>\n",
       "    <tr>\n",
       "      <th>1</th>\n",
       "      <td>08/08/23</td>\n",
       "      <td>8:09:21 AM</td>\n",
       "      <td>Bank Transfer</td>\n",
       "      <td>SamplePay</td>\n",
       "      <td>Rajpur Sonarpur</td>\n",
       "      <td>Himachal Pradesh</td>\n",
       "      <td>Pending</td>\n",
       "      <td>Windows</td>\n",
       "      <td>30</td>\n",
       "      <td>Home delivery</td>\n",
       "      <td>Mobile</td>\n",
       "      <td>-36.64</td>\n",
       "      <td>20</td>\n",
       "      <td>121.94</td>\n",
       "      <td>1</td>\n",
       "    </tr>\n",
       "    <tr>\n",
       "      <th>2</th>\n",
       "      <td>25/06/23</td>\n",
       "      <td>7:49:01 AM</td>\n",
       "      <td>Bank Transfer</td>\n",
       "      <td>Other</td>\n",
       "      <td>New Delhi</td>\n",
       "      <td>Himachal Pradesh</td>\n",
       "      <td>Failed</td>\n",
       "      <td>Android</td>\n",
       "      <td>2</td>\n",
       "      <td>Utilities</td>\n",
       "      <td>Online</td>\n",
       "      <td>44.19</td>\n",
       "      <td>22</td>\n",
       "      <td>106.69</td>\n",
       "      <td>1</td>\n",
       "    </tr>\n",
       "    <tr>\n",
       "      <th>3</th>\n",
       "      <td>28/01/24</td>\n",
       "      <td>5:44:12 AM</td>\n",
       "      <td>Subscription</td>\n",
       "      <td>UPI Pay</td>\n",
       "      <td>Bharatpur</td>\n",
       "      <td>Chhattisgarh</td>\n",
       "      <td>Failed</td>\n",
       "      <td>Android</td>\n",
       "      <td>0</td>\n",
       "      <td>Purchases</td>\n",
       "      <td>Online</td>\n",
       "      <td>-54.34</td>\n",
       "      <td>28</td>\n",
       "      <td>3611.11</td>\n",
       "      <td>1</td>\n",
       "    </tr>\n",
       "    <tr>\n",
       "      <th>4</th>\n",
       "      <td>21/06/23</td>\n",
       "      <td>9:40:59 AM</td>\n",
       "      <td>Investment</td>\n",
       "      <td>Dummy Bank</td>\n",
       "      <td>Sagar</td>\n",
       "      <td>Mizoram</td>\n",
       "      <td>Completed</td>\n",
       "      <td>MacOS</td>\n",
       "      <td>1</td>\n",
       "      <td>Other</td>\n",
       "      <td>Online</td>\n",
       "      <td>12.38</td>\n",
       "      <td>25</td>\n",
       "      <td>374.89</td>\n",
       "      <td>1</td>\n",
       "    </tr>\n",
       "  </tbody>\n",
       "</table>\n",
       "</div>"
      ],
      "text/plain": [
       "       Date        Time Transaction_Type Payment_Gateway Transaction_City  \\\n",
       "0  20/04/23  4:50:22 AM           Refund       SamplePay         Durgapur   \n",
       "1  08/08/23  8:09:21 AM    Bank Transfer       SamplePay  Rajpur Sonarpur   \n",
       "2  25/06/23  7:49:01 AM    Bank Transfer           Other        New Delhi   \n",
       "3  28/01/24  5:44:12 AM     Subscription         UPI Pay        Bharatpur   \n",
       "4  21/06/23  9:40:59 AM       Investment      Dummy Bank            Sagar   \n",
       "\n",
       "  Transaction_State Transaction_Status Device_OS  Transaction_Frequency  \\\n",
       "0      Chhattisgarh          Completed     MacOS                      1   \n",
       "1  Himachal Pradesh            Pending   Windows                     30   \n",
       "2  Himachal Pradesh             Failed   Android                      2   \n",
       "3      Chhattisgarh             Failed   Android                      0   \n",
       "4           Mizoram          Completed     MacOS                      1   \n",
       "\n",
       "        Merchant_Category Transaction_Channel  Transaction_Amount_Deviation  \\\n",
       "0  Brand Vouchers and OTT            In-store                         25.02   \n",
       "1           Home delivery              Mobile                        -36.64   \n",
       "2               Utilities              Online                         44.19   \n",
       "3               Purchases              Online                        -54.34   \n",
       "4                   Other              Online                         12.38   \n",
       "\n",
       "   Days_Since_Last_Transaction   amount  fraud  \n",
       "0                            5   396.62      1  \n",
       "1                           20   121.94      1  \n",
       "2                           22   106.69      1  \n",
       "3                           28  3611.11      1  \n",
       "4                           25   374.89      1  "
      ]
     },
     "execution_count": 28,
     "metadata": {},
     "output_type": "execute_result"
    }
   ],
   "source": [
    "df.head()"
   ]
  },
  {
   "cell_type": "markdown",
   "metadata": {},
   "source": [
    "### Data Cleaning and  Feature Engineering"
   ]
  },
  {
   "cell_type": "code",
   "execution_count": 29,
   "metadata": {},
   "outputs": [
    {
     "data": {
      "text/plain": [
       "0      20/04/23\n",
       "1      08/08/23\n",
       "2      25/06/23\n",
       "3      28/01/24\n",
       "4      21/06/23\n",
       "         ...   \n",
       "642    24/07/23\n",
       "643    05/07/23\n",
       "644    16/04/23\n",
       "645    28/10/23\n",
       "646    11/04/24\n",
       "Name: Date, Length: 647, dtype: object"
      ]
     },
     "execution_count": 29,
     "metadata": {},
     "output_type": "execute_result"
    }
   ],
   "source": [
    "df[\"Date\"]"
   ]
  },
  {
   "cell_type": "code",
   "execution_count": 31,
   "metadata": {},
   "outputs": [
    {
     "data": {
      "text/html": [
       "<div>\n",
       "<style scoped>\n",
       "    .dataframe tbody tr th:only-of-type {\n",
       "        vertical-align: middle;\n",
       "    }\n",
       "\n",
       "    .dataframe tbody tr th {\n",
       "        vertical-align: top;\n",
       "    }\n",
       "\n",
       "    .dataframe thead th {\n",
       "        text-align: right;\n",
       "    }\n",
       "</style>\n",
       "<table border=\"1\" class=\"dataframe\">\n",
       "  <thead>\n",
       "    <tr style=\"text-align: right;\">\n",
       "      <th></th>\n",
       "      <th>Date</th>\n",
       "      <th>amount</th>\n",
       "    </tr>\n",
       "  </thead>\n",
       "  <tbody>\n",
       "    <tr>\n",
       "      <th>0</th>\n",
       "      <td>20/04/23</td>\n",
       "      <td>396.62</td>\n",
       "    </tr>\n",
       "    <tr>\n",
       "      <th>1</th>\n",
       "      <td>08/08/23</td>\n",
       "      <td>121.94</td>\n",
       "    </tr>\n",
       "    <tr>\n",
       "      <th>2</th>\n",
       "      <td>25/06/23</td>\n",
       "      <td>106.69</td>\n",
       "    </tr>\n",
       "    <tr>\n",
       "      <th>3</th>\n",
       "      <td>28/01/24</td>\n",
       "      <td>3611.11</td>\n",
       "    </tr>\n",
       "    <tr>\n",
       "      <th>4</th>\n",
       "      <td>21/06/23</td>\n",
       "      <td>374.89</td>\n",
       "    </tr>\n",
       "    <tr>\n",
       "      <th>...</th>\n",
       "      <td>...</td>\n",
       "      <td>...</td>\n",
       "    </tr>\n",
       "    <tr>\n",
       "      <th>642</th>\n",
       "      <td>24/07/23</td>\n",
       "      <td>28.27</td>\n",
       "    </tr>\n",
       "    <tr>\n",
       "      <th>643</th>\n",
       "      <td>05/07/23</td>\n",
       "      <td>26.26</td>\n",
       "    </tr>\n",
       "    <tr>\n",
       "      <th>644</th>\n",
       "      <td>16/04/23</td>\n",
       "      <td>6.02</td>\n",
       "    </tr>\n",
       "    <tr>\n",
       "      <th>645</th>\n",
       "      <td>28/10/23</td>\n",
       "      <td>17.12</td>\n",
       "    </tr>\n",
       "    <tr>\n",
       "      <th>646</th>\n",
       "      <td>11/04/24</td>\n",
       "      <td>50.60</td>\n",
       "    </tr>\n",
       "  </tbody>\n",
       "</table>\n",
       "<p>647 rows × 2 columns</p>\n",
       "</div>"
      ],
      "text/plain": [
       "         Date   amount\n",
       "0    20/04/23   396.62\n",
       "1    08/08/23   121.94\n",
       "2    25/06/23   106.69\n",
       "3    28/01/24  3611.11\n",
       "4    21/06/23   374.89\n",
       "..        ...      ...\n",
       "642  24/07/23    28.27\n",
       "643  05/07/23    26.26\n",
       "644  16/04/23     6.02\n",
       "645  28/10/23    17.12\n",
       "646  11/04/24    50.60\n",
       "\n",
       "[647 rows x 2 columns]"
      ]
     },
     "execution_count": 31,
     "metadata": {},
     "output_type": "execute_result"
    }
   ],
   "source": [
    "df[['Date','amount']]"
   ]
  },
  {
   "cell_type": "code",
   "execution_count": 36,
   "metadata": {},
   "outputs": [],
   "source": [
    "import datetime as dt"
   ]
  },
  {
   "cell_type": "code",
   "execution_count": 43,
   "metadata": {},
   "outputs": [],
   "source": [
    "df['Date']=pd.to_datetime(df[\"Date\"],format='%d/%m/%y')"
   ]
  },
  {
   "cell_type": "code",
   "execution_count": 48,
   "metadata": {},
   "outputs": [],
   "source": [
    "df['Month']=df['Date'].dt.month\n",
    "df['Year']=df['Date'].dt.year"
   ]
  },
  {
   "cell_type": "code",
   "execution_count": 49,
   "metadata": {},
   "outputs": [
    {
     "data": {
      "text/html": [
       "<div>\n",
       "<style scoped>\n",
       "    .dataframe tbody tr th:only-of-type {\n",
       "        vertical-align: middle;\n",
       "    }\n",
       "\n",
       "    .dataframe tbody tr th {\n",
       "        vertical-align: top;\n",
       "    }\n",
       "\n",
       "    .dataframe thead th {\n",
       "        text-align: right;\n",
       "    }\n",
       "</style>\n",
       "<table border=\"1\" class=\"dataframe\">\n",
       "  <thead>\n",
       "    <tr style=\"text-align: right;\">\n",
       "      <th></th>\n",
       "      <th>Date</th>\n",
       "      <th>Time</th>\n",
       "      <th>Transaction_Type</th>\n",
       "      <th>Payment_Gateway</th>\n",
       "      <th>Transaction_City</th>\n",
       "      <th>Transaction_State</th>\n",
       "      <th>Transaction_Status</th>\n",
       "      <th>Device_OS</th>\n",
       "      <th>Transaction_Frequency</th>\n",
       "      <th>Merchant_Category</th>\n",
       "      <th>Transaction_Channel</th>\n",
       "      <th>Transaction_Amount_Deviation</th>\n",
       "      <th>Days_Since_Last_Transaction</th>\n",
       "      <th>amount</th>\n",
       "      <th>fraud</th>\n",
       "      <th>Month</th>\n",
       "      <th>Year</th>\n",
       "    </tr>\n",
       "  </thead>\n",
       "  <tbody>\n",
       "    <tr>\n",
       "      <th>0</th>\n",
       "      <td>2023-04-20</td>\n",
       "      <td>4:50:22 AM</td>\n",
       "      <td>Refund</td>\n",
       "      <td>SamplePay</td>\n",
       "      <td>Durgapur</td>\n",
       "      <td>Chhattisgarh</td>\n",
       "      <td>Completed</td>\n",
       "      <td>MacOS</td>\n",
       "      <td>1</td>\n",
       "      <td>Brand Vouchers and OTT</td>\n",
       "      <td>In-store</td>\n",
       "      <td>25.02</td>\n",
       "      <td>5</td>\n",
       "      <td>396.62</td>\n",
       "      <td>1</td>\n",
       "      <td>4</td>\n",
       "      <td>2023</td>\n",
       "    </tr>\n",
       "    <tr>\n",
       "      <th>1</th>\n",
       "      <td>2023-08-08</td>\n",
       "      <td>8:09:21 AM</td>\n",
       "      <td>Bank Transfer</td>\n",
       "      <td>SamplePay</td>\n",
       "      <td>Rajpur Sonarpur</td>\n",
       "      <td>Himachal Pradesh</td>\n",
       "      <td>Pending</td>\n",
       "      <td>Windows</td>\n",
       "      <td>30</td>\n",
       "      <td>Home delivery</td>\n",
       "      <td>Mobile</td>\n",
       "      <td>-36.64</td>\n",
       "      <td>20</td>\n",
       "      <td>121.94</td>\n",
       "      <td>1</td>\n",
       "      <td>8</td>\n",
       "      <td>2023</td>\n",
       "    </tr>\n",
       "    <tr>\n",
       "      <th>2</th>\n",
       "      <td>2023-06-25</td>\n",
       "      <td>7:49:01 AM</td>\n",
       "      <td>Bank Transfer</td>\n",
       "      <td>Other</td>\n",
       "      <td>New Delhi</td>\n",
       "      <td>Himachal Pradesh</td>\n",
       "      <td>Failed</td>\n",
       "      <td>Android</td>\n",
       "      <td>2</td>\n",
       "      <td>Utilities</td>\n",
       "      <td>Online</td>\n",
       "      <td>44.19</td>\n",
       "      <td>22</td>\n",
       "      <td>106.69</td>\n",
       "      <td>1</td>\n",
       "      <td>6</td>\n",
       "      <td>2023</td>\n",
       "    </tr>\n",
       "    <tr>\n",
       "      <th>3</th>\n",
       "      <td>2024-01-28</td>\n",
       "      <td>5:44:12 AM</td>\n",
       "      <td>Subscription</td>\n",
       "      <td>UPI Pay</td>\n",
       "      <td>Bharatpur</td>\n",
       "      <td>Chhattisgarh</td>\n",
       "      <td>Failed</td>\n",
       "      <td>Android</td>\n",
       "      <td>0</td>\n",
       "      <td>Purchases</td>\n",
       "      <td>Online</td>\n",
       "      <td>-54.34</td>\n",
       "      <td>28</td>\n",
       "      <td>3611.11</td>\n",
       "      <td>1</td>\n",
       "      <td>1</td>\n",
       "      <td>2024</td>\n",
       "    </tr>\n",
       "    <tr>\n",
       "      <th>4</th>\n",
       "      <td>2023-06-21</td>\n",
       "      <td>9:40:59 AM</td>\n",
       "      <td>Investment</td>\n",
       "      <td>Dummy Bank</td>\n",
       "      <td>Sagar</td>\n",
       "      <td>Mizoram</td>\n",
       "      <td>Completed</td>\n",
       "      <td>MacOS</td>\n",
       "      <td>1</td>\n",
       "      <td>Other</td>\n",
       "      <td>Online</td>\n",
       "      <td>12.38</td>\n",
       "      <td>25</td>\n",
       "      <td>374.89</td>\n",
       "      <td>1</td>\n",
       "      <td>6</td>\n",
       "      <td>2023</td>\n",
       "    </tr>\n",
       "  </tbody>\n",
       "</table>\n",
       "</div>"
      ],
      "text/plain": [
       "        Date        Time Transaction_Type Payment_Gateway Transaction_City  \\\n",
       "0 2023-04-20  4:50:22 AM           Refund       SamplePay         Durgapur   \n",
       "1 2023-08-08  8:09:21 AM    Bank Transfer       SamplePay  Rajpur Sonarpur   \n",
       "2 2023-06-25  7:49:01 AM    Bank Transfer           Other        New Delhi   \n",
       "3 2024-01-28  5:44:12 AM     Subscription         UPI Pay        Bharatpur   \n",
       "4 2023-06-21  9:40:59 AM       Investment      Dummy Bank            Sagar   \n",
       "\n",
       "  Transaction_State Transaction_Status Device_OS  Transaction_Frequency  \\\n",
       "0      Chhattisgarh          Completed     MacOS                      1   \n",
       "1  Himachal Pradesh            Pending   Windows                     30   \n",
       "2  Himachal Pradesh             Failed   Android                      2   \n",
       "3      Chhattisgarh             Failed   Android                      0   \n",
       "4           Mizoram          Completed     MacOS                      1   \n",
       "\n",
       "        Merchant_Category Transaction_Channel  Transaction_Amount_Deviation  \\\n",
       "0  Brand Vouchers and OTT            In-store                         25.02   \n",
       "1           Home delivery              Mobile                        -36.64   \n",
       "2               Utilities              Online                         44.19   \n",
       "3               Purchases              Online                        -54.34   \n",
       "4                   Other              Online                         12.38   \n",
       "\n",
       "   Days_Since_Last_Transaction   amount  fraud  Month  Year  \n",
       "0                            5   396.62      1      4  2023  \n",
       "1                           20   121.94      1      8  2023  \n",
       "2                           22   106.69      1      6  2023  \n",
       "3                           28  3611.11      1      1  2024  \n",
       "4                           25   374.89      1      6  2023  "
      ]
     },
     "execution_count": 49,
     "metadata": {},
     "output_type": "execute_result"
    }
   ],
   "source": [
    "df.head()"
   ]
  },
  {
   "cell_type": "code",
   "execution_count": 51,
   "metadata": {},
   "outputs": [
    {
     "data": {
      "text/plain": [
       "array([ 4,  8,  6,  1,  5,  2, 10,  3, 12,  9,  7, 11], dtype=int32)"
      ]
     },
     "execution_count": 51,
     "metadata": {},
     "output_type": "execute_result"
    }
   ],
   "source": [
    "df['Month'].unique()"
   ]
  },
  {
   "cell_type": "code",
   "execution_count": 52,
   "metadata": {},
   "outputs": [
    {
     "data": {
      "text/plain": [
       "array([ 1,  2,  3,  4,  5,  6,  7,  8,  9, 10, 11, 12], dtype=int32)"
      ]
     },
     "execution_count": 52,
     "metadata": {},
     "output_type": "execute_result"
    }
   ],
   "source": [
    "df['Month'].sort_values(ascending=True).unique()"
   ]
  },
  {
   "cell_type": "code",
   "execution_count": 54,
   "metadata": {},
   "outputs": [],
   "source": [
    "months={\n",
    "    1:'Jan',\n",
    "    2:'Feb',\n",
    "    3:'Mar',\n",
    "    4:'Apr',\n",
    "    5:'may',\n",
    "    6:'Jun',\n",
    "    7:'Jul',\n",
    "    8:'Aug',\n",
    "    9:'Sep',\n",
    "    10:'Oct',\n",
    "    11:'Nov',\n",
    "    12:'Dec'\n",
    "}"
   ]
  },
  {
   "cell_type": "code",
   "execution_count": 57,
   "metadata": {},
   "outputs": [],
   "source": [
    "df['Month']=df['Month'].map(months)"
   ]
  },
  {
   "cell_type": "code",
   "execution_count": 58,
   "metadata": {},
   "outputs": [
    {
     "data": {
      "text/html": [
       "<div>\n",
       "<style scoped>\n",
       "    .dataframe tbody tr th:only-of-type {\n",
       "        vertical-align: middle;\n",
       "    }\n",
       "\n",
       "    .dataframe tbody tr th {\n",
       "        vertical-align: top;\n",
       "    }\n",
       "\n",
       "    .dataframe thead th {\n",
       "        text-align: right;\n",
       "    }\n",
       "</style>\n",
       "<table border=\"1\" class=\"dataframe\">\n",
       "  <thead>\n",
       "    <tr style=\"text-align: right;\">\n",
       "      <th></th>\n",
       "      <th>Date</th>\n",
       "      <th>Time</th>\n",
       "      <th>Transaction_Type</th>\n",
       "      <th>Payment_Gateway</th>\n",
       "      <th>Transaction_City</th>\n",
       "      <th>Transaction_State</th>\n",
       "      <th>Transaction_Status</th>\n",
       "      <th>Device_OS</th>\n",
       "      <th>Transaction_Frequency</th>\n",
       "      <th>Merchant_Category</th>\n",
       "      <th>Transaction_Channel</th>\n",
       "      <th>Transaction_Amount_Deviation</th>\n",
       "      <th>Days_Since_Last_Transaction</th>\n",
       "      <th>amount</th>\n",
       "      <th>fraud</th>\n",
       "      <th>Month</th>\n",
       "      <th>Year</th>\n",
       "    </tr>\n",
       "  </thead>\n",
       "  <tbody>\n",
       "    <tr>\n",
       "      <th>0</th>\n",
       "      <td>2023-04-20</td>\n",
       "      <td>4:50:22 AM</td>\n",
       "      <td>Refund</td>\n",
       "      <td>SamplePay</td>\n",
       "      <td>Durgapur</td>\n",
       "      <td>Chhattisgarh</td>\n",
       "      <td>Completed</td>\n",
       "      <td>MacOS</td>\n",
       "      <td>1</td>\n",
       "      <td>Brand Vouchers and OTT</td>\n",
       "      <td>In-store</td>\n",
       "      <td>25.02</td>\n",
       "      <td>5</td>\n",
       "      <td>396.62</td>\n",
       "      <td>1</td>\n",
       "      <td>Apr</td>\n",
       "      <td>2023</td>\n",
       "    </tr>\n",
       "    <tr>\n",
       "      <th>1</th>\n",
       "      <td>2023-08-08</td>\n",
       "      <td>8:09:21 AM</td>\n",
       "      <td>Bank Transfer</td>\n",
       "      <td>SamplePay</td>\n",
       "      <td>Rajpur Sonarpur</td>\n",
       "      <td>Himachal Pradesh</td>\n",
       "      <td>Pending</td>\n",
       "      <td>Windows</td>\n",
       "      <td>30</td>\n",
       "      <td>Home delivery</td>\n",
       "      <td>Mobile</td>\n",
       "      <td>-36.64</td>\n",
       "      <td>20</td>\n",
       "      <td>121.94</td>\n",
       "      <td>1</td>\n",
       "      <td>Aug</td>\n",
       "      <td>2023</td>\n",
       "    </tr>\n",
       "    <tr>\n",
       "      <th>2</th>\n",
       "      <td>2023-06-25</td>\n",
       "      <td>7:49:01 AM</td>\n",
       "      <td>Bank Transfer</td>\n",
       "      <td>Other</td>\n",
       "      <td>New Delhi</td>\n",
       "      <td>Himachal Pradesh</td>\n",
       "      <td>Failed</td>\n",
       "      <td>Android</td>\n",
       "      <td>2</td>\n",
       "      <td>Utilities</td>\n",
       "      <td>Online</td>\n",
       "      <td>44.19</td>\n",
       "      <td>22</td>\n",
       "      <td>106.69</td>\n",
       "      <td>1</td>\n",
       "      <td>Jun</td>\n",
       "      <td>2023</td>\n",
       "    </tr>\n",
       "    <tr>\n",
       "      <th>3</th>\n",
       "      <td>2024-01-28</td>\n",
       "      <td>5:44:12 AM</td>\n",
       "      <td>Subscription</td>\n",
       "      <td>UPI Pay</td>\n",
       "      <td>Bharatpur</td>\n",
       "      <td>Chhattisgarh</td>\n",
       "      <td>Failed</td>\n",
       "      <td>Android</td>\n",
       "      <td>0</td>\n",
       "      <td>Purchases</td>\n",
       "      <td>Online</td>\n",
       "      <td>-54.34</td>\n",
       "      <td>28</td>\n",
       "      <td>3611.11</td>\n",
       "      <td>1</td>\n",
       "      <td>Jan</td>\n",
       "      <td>2024</td>\n",
       "    </tr>\n",
       "    <tr>\n",
       "      <th>4</th>\n",
       "      <td>2023-06-21</td>\n",
       "      <td>9:40:59 AM</td>\n",
       "      <td>Investment</td>\n",
       "      <td>Dummy Bank</td>\n",
       "      <td>Sagar</td>\n",
       "      <td>Mizoram</td>\n",
       "      <td>Completed</td>\n",
       "      <td>MacOS</td>\n",
       "      <td>1</td>\n",
       "      <td>Other</td>\n",
       "      <td>Online</td>\n",
       "      <td>12.38</td>\n",
       "      <td>25</td>\n",
       "      <td>374.89</td>\n",
       "      <td>1</td>\n",
       "      <td>Jun</td>\n",
       "      <td>2023</td>\n",
       "    </tr>\n",
       "  </tbody>\n",
       "</table>\n",
       "</div>"
      ],
      "text/plain": [
       "        Date        Time Transaction_Type Payment_Gateway Transaction_City  \\\n",
       "0 2023-04-20  4:50:22 AM           Refund       SamplePay         Durgapur   \n",
       "1 2023-08-08  8:09:21 AM    Bank Transfer       SamplePay  Rajpur Sonarpur   \n",
       "2 2023-06-25  7:49:01 AM    Bank Transfer           Other        New Delhi   \n",
       "3 2024-01-28  5:44:12 AM     Subscription         UPI Pay        Bharatpur   \n",
       "4 2023-06-21  9:40:59 AM       Investment      Dummy Bank            Sagar   \n",
       "\n",
       "  Transaction_State Transaction_Status Device_OS  Transaction_Frequency  \\\n",
       "0      Chhattisgarh          Completed     MacOS                      1   \n",
       "1  Himachal Pradesh            Pending   Windows                     30   \n",
       "2  Himachal Pradesh             Failed   Android                      2   \n",
       "3      Chhattisgarh             Failed   Android                      0   \n",
       "4           Mizoram          Completed     MacOS                      1   \n",
       "\n",
       "        Merchant_Category Transaction_Channel  Transaction_Amount_Deviation  \\\n",
       "0  Brand Vouchers and OTT            In-store                         25.02   \n",
       "1           Home delivery              Mobile                        -36.64   \n",
       "2               Utilities              Online                         44.19   \n",
       "3               Purchases              Online                        -54.34   \n",
       "4                   Other              Online                         12.38   \n",
       "\n",
       "   Days_Since_Last_Transaction   amount  fraud Month  Year  \n",
       "0                            5   396.62      1   Apr  2023  \n",
       "1                           20   121.94      1   Aug  2023  \n",
       "2                           22   106.69      1   Jun  2023  \n",
       "3                           28  3611.11      1   Jan  2024  \n",
       "4                           25   374.89      1   Jun  2023  "
      ]
     },
     "execution_count": 58,
     "metadata": {},
     "output_type": "execute_result"
    }
   ],
   "source": [
    "df.head()"
   ]
  },
  {
   "cell_type": "code",
   "execution_count": 59,
   "metadata": {},
   "outputs": [],
   "source": [
    "df.drop(['Date','Time'],axis=1,inplace=True)"
   ]
  },
  {
   "cell_type": "code",
   "execution_count": 61,
   "metadata": {},
   "outputs": [
    {
     "data": {
      "text/plain": [
       "fraud\n",
       "0    76.043277\n",
       "1    23.956723\n",
       "Name: proportion, dtype: float64"
      ]
     },
     "execution_count": 61,
     "metadata": {},
     "output_type": "execute_result"
    }
   ],
   "source": [
    "df['fraud'].value_counts(normalize=True)*100"
   ]
  },
  {
   "cell_type": "code",
   "execution_count": 67,
   "metadata": {},
   "outputs": [
    {
     "data": {
      "text/plain": [
       "<Axes: xlabel='fraud', ylabel='count'>"
      ]
     },
     "execution_count": 67,
     "metadata": {},
     "output_type": "execute_result"
    },
    {
     "data": {
      "image/png": "[encoded data removed]",
      "text/plain": [
       "<Figure size 640x480 with 1 Axes>"
      ]
     },
     "metadata": {},
     "output_type": "display_data"
    }
   ],
   "source": [
    "sns.countplot(data=df,x='fraud',color='yellow')"
   ]
  },
  {
   "cell_type": "code",
   "execution_count": null,
   "metadata": {},
   "outputs": [],
   "source": []
  }
 ],
 "metadata": {
  "kernelspec": {
   "display_name": ".venv",
   "language": "python",
   "name": "python3"
  },
  "language_info": {
   "codemirror_mode": {
    "name": "ipython",
    "version": 3
   },
   "file_extension": ".py",
   "mimetype": "text/x-python",
   "name": "python",
   "nbconvert_exporter": "python",
   "pygments_lexer": "ipython3",
   "version": "3.12.8"
  }
 },
 "nbformat": 4,
 "nbformat_minor": 2
}
